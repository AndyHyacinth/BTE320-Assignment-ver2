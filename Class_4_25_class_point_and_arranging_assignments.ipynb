{
  "nbformat": 4,
  "nbformat_minor": 0,
  "metadata": {
    "colab": {
      "provenance": [],
      "authorship_tag": "ABX9TyPxgTVXmft+Bx/JAMqxgrOi",
      "include_colab_link": true
    },
    "kernelspec": {
      "name": "python3",
      "display_name": "Python 3"
    },
    "language_info": {
      "name": "python"
    }
  },
  "cells": [
    {
      "cell_type": "markdown",
      "metadata": {
        "id": "view-in-github",
        "colab_type": "text"
      },
      "source": [
        "<a href=\"https://colab.research.google.com/github/AndyHyacinth/BTE320-Assignment-ver2/blob/main/Class_4_25_class_point_and_arranging_assignments.ipynb\" target=\"_parent\"><img src=\"https://colab.research.google.com/assets/colab-badge.svg\" alt=\"Open In Colab\"/></a>"
      ]
    },
    {
      "cell_type": "markdown",
      "source": [
        "Assignment 2 submitted"
      ],
      "metadata": {
        "id": "UxP3Y03NQvw3"
      }
    },
    {
      "cell_type": "code",
      "source": [
        "#Calculator\n",
        "\n",
        "while True:\n",
        " userNum1 = float (input (\"Enter the first number: \"))\n",
        " userOperator = str(input(\"Enter an operator: \"))\n",
        "\n",
        " if userOperator == \"break\":\n",
        "   print(\"Thanks for using our calculator!\")\n",
        "   break\n",
        "\n",
        "userNum2 = float (input (\"Enter a second number: \"))\n",
        "\n",
        " if useroperator =\"+\":\n",
        "  answer = userNuml + userNum2\n",
        " elif userOperator = \"-\":\n",
        "  answer = userNum1. - userNum2\n",
        " elif useroperator ==\"*\":\n",
        "  answer = userNum1 * userNum2\n",
        " elif userOperator ==\"/\":\n",
        "  if userNum2 == 0:\n",
        "   print (\"Can't divide by zero. Try again.\")\n",
        "   continue\n",
        "  answer = userNum1 / userNum2\n",
        " elif userOperator =\"//\":\n",
        "  if userNum2 == 0:\n",
        "    print (\"Can't divide by zero. Try again.\") continue\n",
        "   answer = userNum1 // userNum2\n",
        " elif userOperator ==\"%\":\n",
        "  if userNum2 ==0:\n",
        "   print( \"Can't divide by zero. Try again.\")\n",
        "   continue\n",
        "   answer = userNum1//userNum2\n",
        " elif userOperator==\"**\":\n",
        "   answer = userNum ** userNum2\n",
        " else:\n",
        "   print( 'Invalid operator:', userOperator)\n",
        "   continue\n",
        " print (answer)"
      ],
      "metadata": {
        "id": "djeNBl3bQvMJ"
      },
      "execution_count": null,
      "outputs": []
    },
    {
      "cell_type": "code",
      "source": [
        "#Dictionary with 2 variables months\n",
        "months={}\n",
        "\n",
        "numbers=[1,2,3,4,5,6,7,8,9,10,11,12]\n",
        "names=['January','February','March','April','May','June','July','August','September','October','November','December']\n",
        "\n",
        "for i in range(len(numbers)):\n",
        "  months[numbers[i]]=names[i]\n",
        "\n",
        "  print(months)"
      ],
      "metadata": {
        "id": "h5qiGlwAOC2J"
      },
      "execution_count": null,
      "outputs": []
    },
    {
      "cell_type": "code",
      "source": [
        "#Date program\n",
        "def read_date_input():\n",
        "    date_input = input(\"Please enter a date in the format mm/dd/yyyy: \")\n",
        "\n",
        "    # Split the input by '/' and check if it has three parts\n",
        "    parts = date_input.split('/')\n",
        "    if len(parts) == 3:\n",
        "        month, day, year = parts\n",
        "        # Further checks can be implemented here to validate the actual values\n",
        "        print(f\"The entered date is: {month}/{day}/{year}\")\n",
        "    else:\n",
        "        print(\"The entered date is not in the correct format.\")\n",
        "\n",
        "# Call the function to read input\n",
        "read_date_input()"
      ],
      "metadata": {
        "id": "KaiCpYWEUe1G"
      },
      "execution_count": null,
      "outputs": []
    },
    {
      "cell_type": "code",
      "source": [
        "#Deposit\n",
        "deposit = float(input('enter deposit amount $:'))\n",
        "customer_type=input('existing customer or new customer?:')\n",
        "\n",
        "if customer_type == 'existing':\n",
        "  if deposit>10000:\n",
        "    ir=3.5\n",
        "  elif deposit<=1000:\n",
        "    ir=3.0\n",
        "  else:\n",
        "    ir=3.25\n",
        "\n",
        "else:\n",
        "  ir=6\n",
        "\n",
        "\n",
        "total=(1+ir/100)*deposit\n",
        "print(f'ttl amount receive: {total}$')"
      ],
      "metadata": {
        "id": "j6FYS_mrUgfJ"
      },
      "execution_count": null,
      "outputs": []
    },
    {
      "cell_type": "code",
      "source": [
        "# List creator\n",
        "List=[]\n",
        "\n",
        "  while True:\n",
        "   userinput = int(input( 'Enter an integer to append to the list: '))\n",
        "   if userinput == 0:\n",
        "    break\n",
        " List. append (userinput)\n",
        " print(f'Here is your current list: {List}')\n",
        "\n",
        "print(f'Here is your list: {List}')"
      ],
      "metadata": {
        "id": "hkt8AXQyTpa3"
      },
      "execution_count": null,
      "outputs": []
    },
    {
      "cell_type": "code",
      "source": [
        "# rock paper scissors\n",
        "import random\n",
        "\n",
        "user_choice = input(\"Enter your choice (rock, paper, or scissors): \")\n",
        "computer_choice = random.choice([\"rock\", \"paper\", \"scissors\"])\n",
        "\n",
        "print(f\"You chose: {user_choice}\")\n",
        "print(f\"Computer chose: {computer_choice}\")\n",
        "\n",
        "if user_choice == computer_choice:\n",
        "    print(\"It's a tie!\")\n",
        "elif (\n",
        "    (user_choice == \"rock\" and computer_choice == \"scissors\") or\n",
        "    (user_choice == \"paper\" and computer_choice == \"rock\") or\n",
        "    (user_choice == \"scissors\" and computer_choice == \"paper\")\n",
        "):\n",
        "    print(\"You win!\")\n",
        "else:\n",
        "    print(\"Computer wins!\")"
      ],
      "metadata": {
        "id": "sFim7eMMQFDK"
      },
      "execution_count": null,
      "outputs": []
    },
    {
      "cell_type": "code",
      "source": [
        "# leap year\n",
        "year = int(input(\"Enter a year: \"))\n",
        "\n",
        "if (year % 4 == 0 and year % 100 != 0) or (year % 400 == 0):\n",
        "    print(f\"{year} is a leap year!\")\n",
        "else:\n",
        "    print(f\"{year} is not a leap year.\")"
      ],
      "metadata": {
        "id": "fO_R43mPTCVs"
      },
      "execution_count": null,
      "outputs": []
    },
    {
      "cell_type": "code",
      "source": [
        "#Parking garage\n",
        "\n",
        "def getParkingHours():\n",
        "\n",
        "    try:\n",
        "\n",
        "        hours_parked = float(input(\"Enter the number of hours parked: \"))\n",
        "    except ValueError:\n",
        "        print(\"Invalid input. Please enter a numerical value.\")\n",
        "        return 0\n",
        "    return hours_parked\n",
        "\n",
        "def calcParkingFee(hours):\n",
        "\n",
        "    fee = hours * 2.50\n",
        "\n",
        "\n",
        "    if fee < 6.00:\n",
        "        fee = 6.00\n",
        "\n",
        "\n",
        "    elif fee > 20.00:\n",
        "        fee = 20.00\n",
        "\n",
        "    return fee\n",
        "\n",
        "\n",
        "if __name__ == \"__main__\":\n",
        "    hours = getParkingHours()\n",
        "    if hours > 0:\n",
        "        fee = calcParkingFee(hours)\n",
        "        print(f\"The parking fee is: ${fee:.2f}\")\n",
        "    else:\n",
        "        print(\"No valid hours entered. Exiting the program.\")"
      ],
      "metadata": {
        "id": "43Z6lgJ5ShSF"
      },
      "execution_count": null,
      "outputs": []
    },
    {
      "cell_type": "code",
      "source": [
        "#movie theatre\n",
        "\n",
        "print(f'Ad$ Profit')\n",
        " init_attendees=20\n",
        " fixed_cost = 200\n",
        "\n",
        "for advertising in range(0, 201, 25) :\n",
        " ad = float(advertising)\n",
        " attendees = float (2*round(advertising**0.5) + init attendees)\n",
        " profit = float((attendees * 10) - advertising - fixed cost)\n",
        "print(f' (ad} $(profit}')"
      ],
      "metadata": {
        "id": "u0v23Rl5RoJ3"
      },
      "execution_count": null,
      "outputs": []
    },
    {
      "cell_type": "code",
      "execution_count": null,
      "metadata": {
        "colab": {
          "base_uri": "https://localhost:8080/"
        },
        "id": "7e7p0XvwFyTY",
        "outputId": "e1405c12-b2ba-460a-9e1c-ae82714859d7"
      },
      "outputs": [
        {
          "output_type": "stream",
          "name": "stdout",
          "text": [
            "5.656854249492381\n"
          ]
        }
      ],
      "source": [
        "class Point:\n",
        " def __init__(self,x,y):\n",
        "  self.x=y\n",
        "  self.y=y\n",
        " def distance(self,other):\n",
        "  x_diff=(self.x-other.x) ** 2\n",
        "  y_diff=(self.y-other.y)**2\n",
        "  return (x_diff+y_diff)**0.5\n",
        "\n",
        "class Point3d (Point):\n",
        "  def __init__ (self,x,y,z):\n",
        "    super().__init__(x,y)\n",
        "    self.z=z\n",
        "\n",
        "p1=Point(3,4)\n",
        "p2=Point(6,8)\n",
        "print(p1.distance(p2))\n"
      ]
    },
    {
      "cell_type": "code",
      "source": [
        "#mortgage\n",
        "\n",
        "class Mortgage:\n",
        "  def __init__(self, initloanAmount, maturity, interest):\n",
        "    self.initloanAmount=initloanAmount\n",
        "    self.maturity=maturity\n",
        "    self.interest=interest\n",
        "\n",
        "  def __str__(self):\n",
        "      return f'Mortgage info: \\n Initial loan amount: {self.amount} $\\n Maturity term: {self.maturity} years\\n Interest rate: {self.__interest} %'\n",
        "\n",
        "  def get_interest(self):\n",
        "    return self.interest\n",
        "\n",
        "  def set_interest(self, newInterest):\n",
        "    if newInterest >= 0:\n",
        "      self.interest=newInterest\n",
        "    else:\n",
        "      print('enter positive value')\n",
        "\n",
        "  def payment(self):\n",
        "    r = self.interest/100\n",
        "    n = self.maturity*12\n",
        "    return self.initloanAmount*(r*(1+r)**n)/((1+r)**n-1)\n"
      ],
      "metadata": {
        "id": "833BaTk354Pp"
      },
      "execution_count": null,
      "outputs": []
    },
    {
      "cell_type": "code",
      "source": [
        "m=Mortgage(100000,30,6)"
      ],
      "metadata": {
        "id": "ca1msIlw59P1"
      },
      "execution_count": null,
      "outputs": []
    },
    {
      "cell_type": "code",
      "source": [
        "m.set_interest(-5)\n",
        "m.get_interest()"
      ],
      "metadata": {
        "id": "za7i1uXa6AKh"
      },
      "execution_count": null,
      "outputs": []
    },
    {
      "cell_type": "code",
      "source": [
        "m.payment()"
      ],
      "metadata": {
        "id": "xnFAkM3N6C3E"
      },
      "execution_count": null,
      "outputs": []
    },
    {
      "cell_type": "code",
      "source": [],
      "metadata": {
        "id": "PPRpHfUl6DqA"
      },
      "execution_count": null,
      "outputs": []
    }
  ]
}